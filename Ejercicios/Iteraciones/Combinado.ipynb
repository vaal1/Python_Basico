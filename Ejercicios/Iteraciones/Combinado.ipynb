{
 "cells": [
  {
   "cell_type": "code",
   "execution_count": 1,
   "metadata": {},
   "outputs": [
    {
     "name": "stdout",
     "output_type": "stream",
     "text": [
      "    1\n",
      "   2\n",
      "   3\n",
      "   4\n",
      "   5\n",
      "   6\n",
      "   7\n",
      "   8\n",
      "   9\n",
      "  10\n",
      "  11\n",
      "  12\n",
      "  13\n",
      "  14\n",
      "  15\n",
      "  16\n",
      "  17\n",
      "  18\n",
      "  19\n",
      "  20\n",
      "   1   2   3   4   5   6   7   8   9  10  11  12  13  14  15  16  17  18  19  20  20\n",
      "  40\n",
      "  60\n",
      "  80\n",
      " 100\n",
      " 120\n",
      " 140\n",
      " 160\n",
      " 180\n",
      " 200\n",
      " 220\n",
      " 240\n",
      " 260\n",
      " 280\n",
      " 300\n",
      " 320\n",
      " 340\n",
      " 360\n",
      " 380\n",
      " 400\n"
     ]
    }
   ],
   "source": [
    "MIN = 1 \n",
    "MAX = 20 \n",
    "#La instrucción end=\"\" al final del argumento de print, evita que el programa continue a la siguiente línea \n",
    "print(\" \", end=\"\") \n",
    "for i in range(MIN, MAX + 1): \n",
    "    print(\"%4d\" % i, end=\"\") \n",
    "    print() \n",
    "for i in range(MIN, MAX + 1): \n",
    "    print(\"%4d\" % i, end=\"\") \n",
    "for j in range(MIN, MAX + 1): \n",
    "    print(\"%4d\" % (i * j), end=\"\") \n",
    "    print()"
   ]
  }
 ],
 "metadata": {
  "kernelspec": {
   "display_name": "Python 3.9.12 ('base')",
   "language": "python",
   "name": "python3"
  },
  "language_info": {
   "codemirror_mode": {
    "name": "ipython",
    "version": 3
   },
   "file_extension": ".py",
   "mimetype": "text/x-python",
   "name": "python",
   "nbconvert_exporter": "python",
   "pygments_lexer": "ipython3",
   "version": "3.9.12"
  },
  "orig_nbformat": 4,
  "vscode": {
   "interpreter": {
    "hash": "8fd206cce700d3fa099cd8fe420f06e6430a2a5b3d2c33dec3d5820e31bc6a18"
   }
  }
 },
 "nbformat": 4,
 "nbformat_minor": 2
}
