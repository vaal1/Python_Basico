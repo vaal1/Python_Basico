{
 "cells": [
  {
   "cell_type": "code",
   "execution_count": 1,
   "metadata": {},
   "outputs": [
    {
     "name": "stdout",
     "output_type": "stream",
     "text": [
      "no son ocho bits\n"
     ]
    },
    {
     "ename": "NameError",
     "evalue": "name 'ones' is not defined",
     "output_type": "error",
     "traceback": [
      "\u001b[0;31m---------------------------------------------------------------------------\u001b[0m",
      "\u001b[0;31mNameError\u001b[0m                                 Traceback (most recent call last)",
      "\u001b[1;32m/home/valerie/Intro_python/Ejercicios/Iteraciones/While.ipynb Cell 1\u001b[0m in \u001b[0;36m<cell line: 3>\u001b[0;34m()\u001b[0m\n\u001b[1;32m     <a href='vscode-notebook-cell:/home/valerie/Intro_python/Ejercicios/Iteraciones/While.ipynb#W0sZmlsZQ%3D%3D?line=9'>10</a>\u001b[0m     ones \u001b[39m=\u001b[39m line\u001b[39m.\u001b[39mcount(\u001b[39m\"\u001b[39m\u001b[39m1\u001b[39m\u001b[39m\"\u001b[39m) \n\u001b[1;32m     <a href='vscode-notebook-cell:/home/valerie/Intro_python/Ejercicios/Iteraciones/While.ipynb#W0sZmlsZQ%3D%3D?line=10'>11</a>\u001b[0m     \u001b[39m# Este conteo regresa el número de veces que aparece el uno en la cadena de ocho bits \u001b[39;00m\n\u001b[1;32m     <a href='vscode-notebook-cell:/home/valerie/Intro_python/Ejercicios/Iteraciones/While.ipynb#W0sZmlsZQ%3D%3D?line=11'>12</a>\u001b[0m     \u001b[39m# despliega el bit de paridad \u001b[39;00m\n\u001b[0;32m---> <a href='vscode-notebook-cell:/home/valerie/Intro_python/Ejercicios/Iteraciones/While.ipynb#W0sZmlsZQ%3D%3D?line=12'>13</a>\u001b[0m \u001b[39mif\u001b[39;00m ones \u001b[39m%\u001b[39m \u001b[39m2\u001b[39m \u001b[39m==\u001b[39m \u001b[39m0\u001b[39m: \n\u001b[1;32m     <a href='vscode-notebook-cell:/home/valerie/Intro_python/Ejercicios/Iteraciones/While.ipynb#W0sZmlsZQ%3D%3D?line=13'>14</a>\u001b[0m     \u001b[39mprint\u001b[39m(\u001b[39m\"\u001b[39m\u001b[39mEl bit de paridad debe de ser 0.\u001b[39m\u001b[39m\"\u001b[39m) \n\u001b[1;32m     <a href='vscode-notebook-cell:/home/valerie/Intro_python/Ejercicios/Iteraciones/While.ipynb#W0sZmlsZQ%3D%3D?line=14'>15</a>\u001b[0m \u001b[39melse\u001b[39;00m: \n",
      "\u001b[0;31mNameError\u001b[0m: name 'ones' is not defined"
     ]
    }
   ],
   "source": [
    "line = input(\"Ingresa 8 bits (ceros y unos) \") \n",
    "# Inicia el bucle hasta encontrar un espacio en blanco \n",
    "while line != \"\": \n",
    "    # Condición que asegura que tiene exactamente 8 ceros y unos  \n",
    "    if line.count(\"0\") + line.count(\"1\") != 8 or len(line) != 8: \n",
    "        # Si es diferente de ocho, intenta de nuevo \n",
    "        print(\"no son ocho bits\") \n",
    "    else: \n",
    "        # Cuenta los unos \n",
    "        ones = line.count(\"1\") \n",
    "        # Este conteo regresa el número de veces que aparece el uno en la cadena de ocho bits \n",
    "        # despliega el bit de paridad \n",
    "    if ones % 2 == 0: \n",
    "        print(\"El bit de paridad debe de ser 0.\") \n",
    "    else: \n",
    "        print(\"El bit de paridad debe de ser 1.\") \n",
    "    # Lee la siguiente cadena de bits \n",
    "    line = input(\"Enter 8 bits: \")"
   ]
  }
 ],
 "metadata": {
  "kernelspec": {
   "display_name": "Python 3.9.12 ('base')",
   "language": "python",
   "name": "python3"
  },
  "language_info": {
   "codemirror_mode": {
    "name": "ipython",
    "version": 3
   },
   "file_extension": ".py",
   "mimetype": "text/x-python",
   "name": "python",
   "nbconvert_exporter": "python",
   "pygments_lexer": "ipython3",
   "version": "3.9.12"
  },
  "orig_nbformat": 4,
  "vscode": {
   "interpreter": {
    "hash": "8fd206cce700d3fa099cd8fe420f06e6430a2a5b3d2c33dec3d5820e31bc6a18"
   }
  }
 },
 "nbformat": 4,
 "nbformat_minor": 2
}
