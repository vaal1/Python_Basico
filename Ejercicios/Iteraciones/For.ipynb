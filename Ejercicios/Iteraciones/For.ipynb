{
 "cells": [
  {
   "cell_type": "code",
   "execution_count": 1,
   "metadata": {},
   "outputs": [
    {
     "name": "stdout",
     "output_type": "stream",
     "text": [
      "los multiplos de tres 5 son:\n",
      "3\n"
     ]
    }
   ],
   "source": [
    "# El usuario ingresa el límite de datos recopilados \n",
    "limit = int(input(\"Ingresa un número mayor a 3\")) \n",
    "# Muestra los números positivos en múltiplos de 3 \n",
    "print(\"los multiplos de tres\", limit, \"son:\") \n",
    "for i in range(3, limit + 1, 3): \n",
    "    print(i)"
   ]
  }
 ],
 "metadata": {
  "kernelspec": {
   "display_name": "Python 3.9.12 ('base')",
   "language": "python",
   "name": "python3"
  },
  "language_info": {
   "codemirror_mode": {
    "name": "ipython",
    "version": 3
   },
   "file_extension": ".py",
   "mimetype": "text/x-python",
   "name": "python",
   "nbconvert_exporter": "python",
   "pygments_lexer": "ipython3",
   "version": "3.9.12"
  },
  "orig_nbformat": 4,
  "vscode": {
   "interpreter": {
    "hash": "8fd206cce700d3fa099cd8fe420f06e6430a2a5b3d2c33dec3d5820e31bc6a18"
   }
  }
 },
 "nbformat": 4,
 "nbformat_minor": 2
}
