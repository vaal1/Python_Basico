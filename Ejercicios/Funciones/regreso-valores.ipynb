{
 "cells": [
  {
   "cell_type": "code",
   "execution_count": null,
   "metadata": {},
   "outputs": [],
   "source": [
    "# Función de una sucesión geométrica \n",
    "def sumGeometric(a, r, n): \n",
    "   # Si el radio tiene un valor de uno \n",
    "   if r == 1: \n",
    "      return a * n \n",
    "   # Calcula la suma geométrica cuando el radio es diferente de uno \n",
    "   s = a * (1 - r ** n) / (1 - r) \n",
    "   #regresa el valor de s \n",
    "   return s\n",
    "\n",
    "  if __name__ == \"__main__\": \n",
    "   main() "
   ]
  }
 ],
 "metadata": {
  "kernelspec": {
   "display_name": "Python 3.9.12 ('base')",
   "language": "python",
   "name": "python3"
  },
  "language_info": {
   "name": "python",
   "version": "3.9.12"
  },
  "orig_nbformat": 4,
  "vscode": {
   "interpreter": {
    "hash": "8fd206cce700d3fa099cd8fe420f06e6430a2a5b3d2c33dec3d5820e31bc6a18"
   }
  }
 },
 "nbformat": 4,
 "nbformat_minor": 2
}
