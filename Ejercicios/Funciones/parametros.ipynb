{
 "cells": [
  {
   "cell_type": "code",
   "execution_count": null,
   "metadata": {},
   "outputs": [],
   "source": [
    "# La función se llama “dibujo”, dibuja un rectángulo y las variables (parámetros) que solicita son el ancho y el alto de la figura \n",
    "def dibujo(width, height): \n",
    "   # se utiliza una estructura de control. \n",
    "   if width < 10 or height < 10: \n",
    "      print(\"Error: La figura es muy pequeña o muy grande.\") \n",
    "      quit() \n",
    "   # Dibuja la parte superior de la figura \n",
    "   print(\"*\" * width) \n",
    "   # Dibuja los lados, en este caso se utiliza un bucle para el valor del alto de la figura \n",
    "   for i in range(height - 2): \n",
    "      print(\"*\" + \" \" * (width - 2) + \"*\") \n",
    "   # Dibuja la parte inferior \n",
    "   print(\"*\" * width)\n",
    "\n",
    "dibujo(5, 5) "
   ]
  }
 ],
 "metadata": {
  "language_info": {
   "name": "python"
  },
  "orig_nbformat": 4
 },
 "nbformat": 4,
 "nbformat_minor": 2
}
