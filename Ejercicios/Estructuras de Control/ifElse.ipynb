{
 "cells": [
  {
   "cell_type": "code",
   "execution_count": 1,
   "metadata": {},
   "outputs": [
    {
     "name": "stdout",
     "output_type": "stream",
     "text": [
      "El número es diferente de cero\n"
     ]
    }
   ],
   "source": [
    "# Solicita un número del usuario \n",
    "num = float(input(\"Ingresa un número\")) \n",
    "# incia estructura de control \n",
    "if num == 0: \n",
    "    result = \"El número es cero\" \n",
    "else: \n",
    "    result = \"El número es diferente de cero\" \n",
    "# muestra el resultado \n",
    "print(result)"
   ]
  }
 ],
 "metadata": {
  "kernelspec": {
   "display_name": "Python 3.9.12 ('base')",
   "language": "python",
   "name": "python3"
  },
  "language_info": {
   "codemirror_mode": {
    "name": "ipython",
    "version": 3
   },
   "file_extension": ".py",
   "mimetype": "text/x-python",
   "name": "python",
   "nbconvert_exporter": "python",
   "pygments_lexer": "ipython3",
   "version": "3.9.12"
  },
  "orig_nbformat": 4,
  "vscode": {
   "interpreter": {
    "hash": "8fd206cce700d3fa099cd8fe420f06e6430a2a5b3d2c33dec3d5820e31bc6a18"
   }
  }
 },
 "nbformat": 4,
 "nbformat_minor": 2
}
