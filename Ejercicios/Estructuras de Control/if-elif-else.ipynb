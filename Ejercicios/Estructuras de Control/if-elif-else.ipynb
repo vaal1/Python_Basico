{
 "cells": [
  {
   "cell_type": "code",
   "execution_count": 1,
   "metadata": {},
   "outputs": [
    {
     "name": "stdout",
     "output_type": "stream",
     "text": [
      "El número es negativo\n"
     ]
    }
   ],
   "source": [
    "# Lee un número  \n",
    "num = float(input(\"Ingresa un número: \")) \n",
    "# El resultado se almacena en una variable llamada result \n",
    "if num > 0: \n",
    "    result = \"El número es positivo\" \n",
    "elif num < 0: \n",
    "    result = \"El número es negativo\" \n",
    "else: \n",
    "    result = \"El número es cero\" \n",
    "print(result)"
   ]
  }
 ],
 "metadata": {
  "kernelspec": {
   "display_name": "Python 3.9.12 ('base')",
   "language": "python",
   "name": "python3"
  },
  "language_info": {
   "codemirror_mode": {
    "name": "ipython",
    "version": 3
   },
   "file_extension": ".py",
   "mimetype": "text/x-python",
   "name": "python",
   "nbconvert_exporter": "python",
   "pygments_lexer": "ipython3",
   "version": "3.9.12"
  },
  "orig_nbformat": 4,
  "vscode": {
   "interpreter": {
    "hash": "8fd206cce700d3fa099cd8fe420f06e6430a2a5b3d2c33dec3d5820e31bc6a18"
   }
  }
 },
 "nbformat": 4,
 "nbformat_minor": 2
}
