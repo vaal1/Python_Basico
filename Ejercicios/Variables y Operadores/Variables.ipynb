{
 "cells": [
  {
   "cell_type": "code",
   "execution_count": 9,
   "metadata": {},
   "outputs": [
    {
     "name": "stdout",
     "output_type": "stream",
     "text": [
      "El valor de x es: 73\n",
      "El valor de y es: 147\n",
      "Tu color favorito es  rojo , tienes 22  años y pesas  50.0  kg\n"
     ]
    }
   ],
   "source": [
    "x = 73\n",
    "y = 1 + x * 2 # variable con una operación matemática \n",
    "z = \"hola a todos\" # variable de caracteres \n",
    "w = input (\"ingresa tu color favorito\") # variable de ingreso de caracteres \n",
    "edad = int (input (\"Ingresa tu edad\")) # variable de ingreso numérico entero \n",
    "peso = float (input (\"¿cuánto pesas?\")) # variable de ingreso de tipo decimal \n",
    "\n",
    "#imprime los datos \n",
    "print(\"El valor de x es:\", x) \n",
    "print(\"El valor de y es:\", y) \n",
    "print(\"Tu color favorito es \",w, \", tienes\",edad, \" años y pesas \",peso,\" kg\") "
   ]
  }
 ],
 "metadata": {
  "kernelspec": {
   "display_name": "Python 3.9.12 ('base')",
   "language": "python",
   "name": "python3"
  },
  "language_info": {
   "codemirror_mode": {
    "name": "ipython",
    "version": 3
   },
   "file_extension": ".py",
   "mimetype": "text/x-python",
   "name": "python",
   "nbconvert_exporter": "python",
   "pygments_lexer": "ipython3",
   "version": "3.9.12"
  },
  "orig_nbformat": 4,
  "vscode": {
   "interpreter": {
    "hash": "8fd206cce700d3fa099cd8fe420f06e6430a2a5b3d2c33dec3d5820e31bc6a18"
   }
  }
 },
 "nbformat": 4,
 "nbformat_minor": 2
}
